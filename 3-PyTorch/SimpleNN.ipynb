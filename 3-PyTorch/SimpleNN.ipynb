{
 "cells": [
  {
   "cell_type": "markdown",
   "metadata": {},
   "source": [
    "# Classifier utils"
   ]
  },
  {
   "cell_type": "code",
   "execution_count": null,
   "metadata": {
    "ExecuteTime": {
     "end_time": "2019-10-21T12:53:58.672480Z",
     "start_time": "2019-10-21T12:53:57.913327Z"
    }
   },
   "outputs": [],
   "source": [
    "import numpy as np\n",
    "import matplotlib.pyplot as plt\n",
    "%matplotlib inline\n",
    "\n",
    "import torch\n",
    "from torch.utils.data import Dataset, DataLoader\n",
    "import torch.nn as nn\n",
    "import torch.optim as optim\n",
    "import torchvision\n",
    "import torchvision.transforms as transforms\n",
    "\n",
    "import os\n",
    "\n",
    "device = torch.device(\"cuda:0\" if torch.cuda.is_available() else \"cpu\")"
   ]
  },
  {
   "cell_type": "code",
   "execution_count": null,
   "metadata": {
    "ExecuteTime": {
     "end_time": "2019-10-21T12:53:59.227213Z",
     "start_time": "2019-10-21T12:53:59.221049Z"
    }
   },
   "outputs": [],
   "source": [
    "def load_data(data_dir, dataset):\n",
    "    if dataset == 'MNIST':\n",
    "        if not os.path.exists(data_dir):\n",
    "            os.makedirs(data_dir)\n",
    "        train_set = torchvision.datasets.MNIST(root=data_dir, train=True,\n",
    "                                               transform=transforms.ToTensor(),download=True)\n",
    "        test_set = torchvision.datasets.MNIST(root=data_dir, train=False,\n",
    "                                               transform=transforms.ToTensor(),download=True)\n",
    "        \n",
    "    return train_set, test_set"
   ]
  },
  {
   "cell_type": "code",
   "execution_count": null,
   "metadata": {
    "ExecuteTime": {
     "end_time": "2019-10-21T12:53:59.926881Z",
     "start_time": "2019-10-21T12:53:59.920818Z"
    }
   },
   "outputs": [],
   "source": [
    "def plot_images(images, targets):\n",
    "    fig, ax = plt.subplots(2, 5, figsize=(10,5))\n",
    "    fig.subplots_adjust(wspace=0, hspace=0, left=0, right=1, bottom=0, top=1)\n",
    "    plt.rcParams.update({'font.size': 20})\n",
    "\n",
    "    for i in range(2):\n",
    "        for j in range(5):\n",
    "            ax[i, j].imshow(images[i*5 + j], cmap='gray')\n",
    "            ax[i, j].axis('off')\n",
    "            ax[i, j].set_title(str(targets[i*5 + j].item()))\n",
    "    plt.show()"
   ]
  },
  {
   "cell_type": "code",
   "execution_count": null,
   "metadata": {
    "ExecuteTime": {
     "end_time": "2019-10-21T12:55:54.701269Z",
     "start_time": "2019-10-21T12:55:54.693454Z"
    }
   },
   "outputs": [],
   "source": [
    "class Net(nn.Module):        \n",
    "    def __init__(self, input_dim, hidden_dim, output_dim):\n",
    "        super(Net, self).__init__()\n",
    "        self.input_dim = input_dim\n",
    "        self.layers = nn.Sequential(nn.Linear(input_dim, hidden_dim),\n",
    "                                   nn.ReLU(),\n",
    "                                   nn.Linear(hidden_dim, hidden_dim),\n",
    "                                    nn.ReLU(),\n",
    "                                    nn.Linear(hidden_dim, hidden_dim),\n",
    "                                    nn.ReLU(),\n",
    "                                    nn.Linear(hidden_dim, hidden_dim),\n",
    "                                    nn.ReLU(),\n",
    "                                   nn.Linear(hidden_dim, output_dim),\n",
    "                                   #nn.Sigmoid())\n",
    "                                    nn.LogSoftmax(dim=1))\n",
    "        \n",
    "    def forward(self, x):\n",
    "        x = self.layers(x)\n",
    "        return x"
   ]
  },
  {
   "cell_type": "code",
   "execution_count": null,
   "metadata": {
    "ExecuteTime": {
     "end_time": "2019-10-21T12:54:01.336100Z",
     "start_time": "2019-10-21T12:54:01.331701Z"
    }
   },
   "outputs": [],
   "source": [
    "def init_weights(Layer):\n",
    "    name = Layer.__class__.__name__\n",
    "    if name == 'Linear':\n",
    "        torch.nn.init.normal_(Layer.weight, mean=0, std=0.02)\n",
    "        if Layer.bias is not None:\n",
    "            torch.nn.init.constant_(Layer.bias, 0)"
   ]
  },
  {
   "cell_type": "code",
   "execution_count": null,
   "metadata": {
    "ExecuteTime": {
     "end_time": "2019-10-21T12:54:01.906339Z",
     "start_time": "2019-10-21T12:54:01.902563Z"
    }
   },
   "outputs": [],
   "source": [
    "def binary_cross_entropy(probs, targets, eps=1e-6):\n",
    "    loss = torch.log(probs + eps) * targets + torch.log(1 - probs + eps) * (1 - targets)\n",
    "    return -torch.mean(loss)"
   ]
  },
  {
   "cell_type": "code",
   "execution_count": null,
   "metadata": {
    "ExecuteTime": {
     "end_time": "2019-10-21T12:54:02.806325Z",
     "start_time": "2019-10-21T12:54:02.802886Z"
    }
   },
   "outputs": [],
   "source": [
    "def cross_entropy(logprobs, oh, eps=1e-6):\n",
    "    loss = torch.sum(logprobs * oh, dim=1)\n",
    "    return -torch.mean(loss)"
   ]
  },
  {
   "cell_type": "markdown",
   "metadata": {},
   "source": [
    "# MNIST Binary Classifier"
   ]
  },
  {
   "cell_type": "markdown",
   "metadata": {
    "ExecuteTime": {
     "end_time": "2019-10-21T12:52:08.702267Z",
     "start_time": "2019-10-21T12:52:08.699665Z"
    }
   },
   "source": [
    "## Load data"
   ]
  },
  {
   "cell_type": "code",
   "execution_count": null,
   "metadata": {
    "ExecuteTime": {
     "end_time": "2019-10-21T12:54:05.458998Z",
     "start_time": "2019-10-21T12:54:04.286404Z"
    }
   },
   "outputs": [],
   "source": [
    "mnist_train, mnist_test = load_data(r'datasets/', 'MNIST')\n",
    "\n",
    "#mnist_train.data = (mnist_train.data.float() / 255. - 0.1307) / 0.3081\n",
    "mnist_train.data = mnist_train.data.float()\n",
    "\n",
    "mnist_train.data = mnist_train.data[[idx for idx in range(len(mnist_train.targets)) if mnist_train.targets[idx] in [0,1]]]\n",
    "mnist_train.targets = mnist_train.targets[[idx for idx in range(len(mnist_train.targets)) if mnist_train.targets[idx] in [0,1]]]\n",
    "\n",
    "dataloader = DataLoader(mnist_train, batch_size=128, shuffle=True)"
   ]
  },
  {
   "cell_type": "code",
   "execution_count": null,
   "metadata": {
    "ExecuteTime": {
     "end_time": "2019-10-21T12:54:10.382687Z",
     "start_time": "2019-10-21T12:54:06.477047Z"
    }
   },
   "outputs": [],
   "source": [
    "#mnist_test.data = (mnist_test.data.float() / 255. - 0.1307) / 0.3081\n",
    "mnist_test.data = mnist_test.data.float()\n",
    "\n",
    "mnist_test.data = mnist_test.data[[idx for idx in range(len(mnist_test.targets)) if mnist_test.targets[idx] in [0,1]]]\n",
    "mnist_test.targets = mnist_test.targets[[idx for idx in range(len(mnist_test.targets)) if mnist_test.targets[idx] in [0,1]]]\n",
    "\n",
    "mnist_test.data = mnist_test.data.to(device)\n",
    "mnist_test.targets = mnist_test.targets.int().to(device)"
   ]
  },
  {
   "cell_type": "code",
   "execution_count": null,
   "metadata": {
    "ExecuteTime": {
     "end_time": "2019-10-21T12:54:18.933055Z",
     "start_time": "2019-10-21T12:54:18.612294Z"
    },
    "scrolled": true
   },
   "outputs": [],
   "source": [
    "plot_images(mnist_train.data[:10], mnist_train.targets[:10])"
   ]
  },
  {
   "cell_type": "markdown",
   "metadata": {
    "ExecuteTime": {
     "end_time": "2019-10-21T12:52:35.979833Z",
     "start_time": "2019-10-21T12:52:35.977062Z"
    }
   },
   "source": [
    "## Init model"
   ]
  },
  {
   "cell_type": "code",
   "execution_count": null,
   "metadata": {
    "ExecuteTime": {
     "end_time": "2019-10-21T12:54:48.934875Z",
     "start_time": "2019-10-21T12:54:48.902786Z"
    }
   },
   "outputs": [],
   "source": [
    "n_epochs = 1000\n",
    "l_rate = 1e-4\n",
    "\n",
    "input_dim = 28 * 28\n",
    "hidden_dim = 512\n",
    "output_dim = 1\n",
    "\n",
    "net = Net(input_dim, hidden_dim, output_dim).to(device)\n",
    "net.apply(init_weights)\n",
    "\n",
    "optimizer = torch.optim.Adam(net.parameters(), lr=l_rate)\n",
    "scheduler = torch.optim.lr_scheduler.StepLR(optimizer, step_size=50, gamma=0.8)"
   ]
  },
  {
   "cell_type": "code",
   "execution_count": null,
   "metadata": {
    "ExecuteTime": {
     "end_time": "2019-10-21T12:54:49.247223Z",
     "start_time": "2019-10-21T12:54:49.243506Z"
    }
   },
   "outputs": [],
   "source": [
    "net"
   ]
  },
  {
   "cell_type": "markdown",
   "metadata": {},
   "source": [
    "## Train model"
   ]
  },
  {
   "cell_type": "code",
   "execution_count": null,
   "metadata": {
    "ExecuteTime": {
     "end_time": "2019-10-21T12:55:22.009303Z",
     "start_time": "2019-10-21T12:55:16.819393Z"
    },
    "scrolled": true
   },
   "outputs": [],
   "source": [
    "net.train()\n",
    "x = mnist_train.data.view(mnist_train.data.shape[0], -1).to(device)\n",
    "targets = mnist_train.targets.view(x.shape[0], 1).float().to(device)\n",
    "\n",
    "losses = []\n",
    "for i in range(n_epochs):\n",
    "    x = x.view(x.shape[0], -1).to(device)\n",
    "    targets = targets.view(x.shape[0], 1).float().to(device)\n",
    "    probs = net(x)\n",
    "    loss = binary_cross_entropy(probs, targets)\n",
    "    losses.append(loss.item())\n",
    "\n",
    "    optimizer.zero_grad()\n",
    "    loss.backward()\n",
    "    optimizer.step()\n",
    "    scheduler.step()\n",
    "    \n",
    "    with torch.no_grad():\n",
    "        probs = net(x)\n",
    "        preds = (probs >= 0.5).int()\n",
    "        accuracy = torch.sum(preds == targets.view(-1,1).int()).float() / preds.shape[0] * 100\n",
    "        print('Epoch: {}/{} Loss: {:.4f} Accuracy (training set): {:.2f}%'.format(i+1, n_epochs, loss.item(), accuracy))"
   ]
  },
  {
   "cell_type": "markdown",
   "metadata": {},
   "source": [
    "## Test model"
   ]
  },
  {
   "cell_type": "code",
   "execution_count": null,
   "metadata": {
    "ExecuteTime": {
     "end_time": "2019-10-21T12:55:27.668421Z",
     "start_time": "2019-10-21T12:55:27.496596Z"
    }
   },
   "outputs": [],
   "source": [
    "plt.figure(figsize=(10,6))\n",
    "plt.rcParams.update({'font.size': 10})\n",
    "plt.plot(range(len(losses)), losses)"
   ]
  },
  {
   "cell_type": "code",
   "execution_count": null,
   "metadata": {
    "ExecuteTime": {
     "end_time": "2019-10-21T12:55:30.621001Z",
     "start_time": "2019-10-21T12:55:30.614493Z"
    }
   },
   "outputs": [],
   "source": [
    "net.eval()\n",
    "\n",
    "with torch.no_grad():\n",
    "    data = mnist_test.data.view(mnist_test.data.shape[0], -1)\n",
    "    probs = net(data)\n",
    "    preds = (probs >= 0.5).int()\n",
    "    accuracy = torch.sum(preds == mnist_test.targets.view(-1,1)).float() / preds.shape[0] * 100\n",
    "    print('Accuracy on the test set: {:.2f}%'.format(accuracy))"
   ]
  },
  {
   "cell_type": "code",
   "execution_count": null,
   "metadata": {
    "ExecuteTime": {
     "end_time": "2019-10-21T12:55:33.517645Z",
     "start_time": "2019-10-21T12:55:33.121866Z"
    }
   },
   "outputs": [],
   "source": [
    "plot_images(data[:10].view(-1,28,28).cpu(), preds[:10].cpu())"
   ]
  },
  {
   "cell_type": "code",
   "execution_count": null,
   "metadata": {
    "ExecuteTime": {
     "end_time": "2019-10-21T12:55:37.579239Z",
     "start_time": "2019-10-21T12:55:37.575174Z"
    }
   },
   "outputs": [],
   "source": [
    "missed_vec = preds != mnist_test.targets.view(-1,1)\n",
    "errors = mnist_test.data[missed_vec.reshape(-1)]"
   ]
  },
  {
   "cell_type": "code",
   "execution_count": null,
   "metadata": {
    "ExecuteTime": {
     "end_time": "2019-10-21T12:55:38.736331Z",
     "start_time": "2019-10-21T12:55:38.732659Z"
    }
   },
   "outputs": [],
   "source": [
    "errors.shape"
   ]
  },
  {
   "cell_type": "code",
   "execution_count": null,
   "metadata": {
    "ExecuteTime": {
     "end_time": "2019-10-21T12:55:39.829783Z",
     "start_time": "2019-10-21T12:55:39.764736Z"
    }
   },
   "outputs": [],
   "source": [
    "for error in errors:\n",
    "    plt.imshow(error.cpu(), cmap='gray')\n",
    "    plt.axis('off')\n",
    "    plt.show()"
   ]
  },
  {
   "cell_type": "markdown",
   "metadata": {},
   "source": [
    "# MNIST Classifier"
   ]
  },
  {
   "cell_type": "markdown",
   "metadata": {},
   "source": [
    "## Load data"
   ]
  },
  {
   "cell_type": "code",
   "execution_count": null,
   "metadata": {
    "ExecuteTime": {
     "end_time": "2019-10-21T12:56:01.151205Z",
     "start_time": "2019-10-21T12:56:01.098791Z"
    }
   },
   "outputs": [],
   "source": [
    "mnist_train, mnist_test = load_data(r'datasets/', 'MNIST')\n",
    "\n",
    "dataloader = DataLoader(mnist_train, batch_size=128, shuffle=True)\n",
    "\n",
    "mnist_test.data = mnist_test.data.to(device)\n",
    "mnist_test.targets = mnist_test.targets.int().to(device)"
   ]
  },
  {
   "cell_type": "code",
   "execution_count": null,
   "metadata": {
    "ExecuteTime": {
     "end_time": "2019-10-21T12:56:02.157692Z",
     "start_time": "2019-10-21T12:56:01.836801Z"
    },
    "scrolled": true
   },
   "outputs": [],
   "source": [
    "plot_images(mnist_train.data[:10], mnist_train.targets[:10])"
   ]
  },
  {
   "cell_type": "markdown",
   "metadata": {},
   "source": [
    "## Init model"
   ]
  },
  {
   "cell_type": "code",
   "execution_count": null,
   "metadata": {
    "ExecuteTime": {
     "end_time": "2019-10-21T12:56:03.938420Z",
     "start_time": "2019-10-21T12:56:03.919478Z"
    }
   },
   "outputs": [],
   "source": [
    "n_epochs = 1000\n",
    "l_rate = 1e-3\n",
    "\n",
    "input_dim = 28 * 28\n",
    "hidden_dim = 512\n",
    "output_dim = 10\n",
    "\n",
    "net = Net(input_dim, hidden_dim, output_dim).to(device)\n",
    "net.apply(init_weights)\n",
    "\n",
    "optimizer = torch.optim.Adam(net.parameters(), lr=l_rate)\n",
    "scheduler = torch.optim.lr_scheduler.StepLR(optimizer, step_size=50, gamma=0.8)"
   ]
  },
  {
   "cell_type": "code",
   "execution_count": null,
   "metadata": {
    "ExecuteTime": {
     "end_time": "2019-10-21T12:56:04.899515Z",
     "start_time": "2019-10-21T12:56:04.894123Z"
    },
    "scrolled": false
   },
   "outputs": [],
   "source": [
    "net"
   ]
  },
  {
   "cell_type": "markdown",
   "metadata": {},
   "source": [
    "## Train model"
   ]
  },
  {
   "cell_type": "code",
   "execution_count": null,
   "metadata": {
    "ExecuteTime": {
     "end_time": "2019-10-21T12:57:13.614835Z",
     "start_time": "2019-10-21T12:56:06.977470Z"
    },
    "scrolled": true
   },
   "outputs": [],
   "source": [
    "net.train()\n",
    "\n",
    "losses = []\n",
    "for i in range(n_epochs):\n",
    "    loss_ac = 0\n",
    "    for j, (x, targets) in enumerate(dataloader):\n",
    "        x = x.view(x.shape[0], -1).float().to(device)\n",
    "        \n",
    "        targets = targets.view(-1,1).to(device)\n",
    "\n",
    "        oh = torch.zeros(targets.shape[0], 10).to(device)\n",
    "        oh.scatter_(1, targets.long(), 1)\n",
    "        \n",
    "        probs = net(x)\n",
    "\n",
    "        loss = cross_entropy(probs, oh)\n",
    "        losses.append(loss.item())\n",
    "        loss_ac += loss.item()\n",
    "        \n",
    "        optimizer.zero_grad()\n",
    "        loss.backward()\n",
    "        optimizer.step()\n",
    "    scheduler.step()\n",
    "    \n",
    "    if i%5 == 0:\n",
    "        with torch.no_grad():\n",
    "            data = mnist_test.data.float().view(mnist_test.data.shape[0], -1)\n",
    "            probs = net(data)\n",
    "            preds = torch.argmax(probs, dim=1).int()\n",
    "            accuracy = torch.sum(preds == mnist_test.targets).float() / preds.shape[0] * 100\n",
    "            print('Accuracy on the test set: {:.2f}%'.format(accuracy))\n",
    "    print('Epoch: {}/{} Loss: {:.4f}'.format(i+1, n_epochs, loss_ac / (j+1)))"
   ]
  },
  {
   "cell_type": "markdown",
   "metadata": {},
   "source": [
    "## Test model"
   ]
  },
  {
   "cell_type": "code",
   "execution_count": null,
   "metadata": {
    "ExecuteTime": {
     "end_time": "2019-10-21T12:57:19.020156Z",
     "start_time": "2019-10-21T12:57:18.818865Z"
    }
   },
   "outputs": [],
   "source": [
    "plt.figure(figsize=(10,6))\n",
    "plt.rcParams.update({'font.size': 10})\n",
    "plt.plot(range(len(losses)), losses)"
   ]
  },
  {
   "cell_type": "code",
   "execution_count": null,
   "metadata": {
    "ExecuteTime": {
     "end_time": "2019-10-21T12:57:21.045281Z",
     "start_time": "2019-10-21T12:57:21.037129Z"
    }
   },
   "outputs": [],
   "source": [
    "net.eval()\n",
    "\n",
    "with torch.no_grad():\n",
    "    data = mnist_test.data.float().view(mnist_test.data.shape[0], -1)\n",
    "    probs = net(data)\n",
    "    preds = torch.argmax(probs, dim=1).int()\n",
    "    accuracy = torch.sum(preds == mnist_test.targets).float() / preds.shape[0] * 100\n",
    "    print('Accuracy on the test set: {:.2f}%'.format(accuracy))"
   ]
  },
  {
   "cell_type": "code",
   "execution_count": null,
   "metadata": {
    "ExecuteTime": {
     "end_time": "2019-10-21T12:57:22.866842Z",
     "start_time": "2019-10-21T12:57:22.550664Z"
    }
   },
   "outputs": [],
   "source": [
    "plot_images(data[:10].view(-1,28,28).cpu(), preds[:10].cpu())"
   ]
  },
  {
   "cell_type": "code",
   "execution_count": null,
   "metadata": {
    "ExecuteTime": {
     "end_time": "2019-10-21T12:57:25.691933Z",
     "start_time": "2019-10-21T12:57:25.688816Z"
    },
    "scrolled": true
   },
   "outputs": [],
   "source": [
    "missed_vec = preds != mnist_test.targets\n",
    "errors = mnist_test.data[missed_vec.reshape(-1)]\n",
    "mispreds = preds[missed_vec]"
   ]
  },
  {
   "cell_type": "code",
   "execution_count": null,
   "metadata": {
    "ExecuteTime": {
     "end_time": "2019-10-21T12:57:27.071041Z",
     "start_time": "2019-10-21T12:57:27.067144Z"
    }
   },
   "outputs": [],
   "source": [
    "errors.shape"
   ]
  },
  {
   "cell_type": "code",
   "execution_count": null,
   "metadata": {
    "ExecuteTime": {
     "end_time": "2019-10-21T12:57:29.087199Z",
     "start_time": "2019-10-21T12:57:28.778021Z"
    },
    "scrolled": true
   },
   "outputs": [],
   "source": [
    "for error, mispred in zip(errors[:5], mispreds[:5]):\n",
    "    plt.imshow(error.cpu(), cmap='gray')\n",
    "    plt.title(str(mispred.item()))\n",
    "    plt.axis('off')\n",
    "    plt.show()"
   ]
  },
  {
   "cell_type": "code",
   "execution_count": null,
   "metadata": {},
   "outputs": [],
   "source": []
  }
 ],
 "metadata": {
  "kernelspec": {
   "display_name": "Python 3",
   "language": "python",
   "name": "python3"
  },
  "language_info": {
   "codemirror_mode": {
    "name": "ipython",
    "version": 3
   },
   "file_extension": ".py",
   "mimetype": "text/x-python",
   "name": "python",
   "nbconvert_exporter": "python",
   "pygments_lexer": "ipython3",
   "version": "3.6.9"
  },
  "latex_envs": {
   "LaTeX_envs_menu_present": true,
   "autoclose": false,
   "autocomplete": true,
   "bibliofile": "biblio.bib",
   "cite_by": "apalike",
   "current_citInitial": 1,
   "eqLabelWithNumbers": true,
   "eqNumInitial": 1,
   "hotkeys": {
    "equation": "Ctrl-E",
    "itemize": "Ctrl-I"
   },
   "labels_anchors": false,
   "latex_user_defs": false,
   "report_style_numbering": false,
   "user_envs_cfg": false
  },
  "toc": {
   "base_numbering": 1,
   "nav_menu": {},
   "number_sections": true,
   "sideBar": true,
   "skip_h1_title": false,
   "title_cell": "Table of Contents",
   "title_sidebar": "Contents",
   "toc_cell": false,
   "toc_position": {},
   "toc_section_display": true,
   "toc_window_display": true
  }
 },
 "nbformat": 4,
 "nbformat_minor": 2
}
